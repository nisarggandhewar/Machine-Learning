{
  "nbformat": 4,
  "nbformat_minor": 0,
  "metadata": {
    "colab": {
      "name": "Linear Regression.ipynb",
      "provenance": []
    },
    "kernelspec": {
      "display_name": "Python 3",
      "name": "python3"
    },
    "language_info": {
      "name": "python"
    }
  },
  "cells": [
    {
      "cell_type": "code",
      "metadata": {
        "id": "xszemLILQDVY"
      },
      "source": [
        "# Importing Libraries\n",
        "import pandas as pd\n",
        "import numpy as np\n",
        "from sklearn import linear_model\n",
        "from sklearn.model_selection import train_test_split"
      ],
      "execution_count": null,
      "outputs": []
    },
    {
      "cell_type": "code",
      "metadata": {
        "id": "gYLsErpoQ5L3"
      },
      "source": [
        "#Loading Dataset\n",
        "from sklearn.datasets import load_boston\n",
        "boston = load_boston()\n",
        "print(boston)"
      ],
      "execution_count": null,
      "outputs": []
    },
    {
      "cell_type": "code",
      "metadata": {
        "id": "MNT4HfCwRAS5"
      },
      "source": [
        "# Independent variable\n",
        "boston.feature_names"
      ],
      "execution_count": null,
      "outputs": []
    },
    {
      "cell_type": "code",
      "metadata": {
        "id": "aHsEYv2cRDyM"
      },
      "source": [
        "# Dependent variabe\n",
        "boston.target"
      ],
      "execution_count": null,
      "outputs": []
    },
    {
      "cell_type": "code",
      "metadata": {
        "id": "6hU_y6AhRH1A"
      },
      "source": [
        "# Assign Values\n",
        "x = pd.DataFrame(boston.data, columns=boston.feature_names) # Independent\n",
        "y = pd.DataFrame(boston.target) # Dependent"
      ],
      "execution_count": null,
      "outputs": []
    },
    {
      "cell_type": "code",
      "metadata": {
        "id": "hHTyTejK3y84"
      },
      "source": [
        "# Total records in dataset\n",
        "x.shape"
      ],
      "execution_count": null,
      "outputs": []
    },
    {
      "cell_type": "code",
      "metadata": {
        "id": "ajyftPcBRapv"
      },
      "source": [
        "# Print first 10 records\n",
        "x.head(10)"
      ],
      "execution_count": null,
      "outputs": []
    },
    {
      "cell_type": "code",
      "metadata": {
        "id": "m8dwRsqiRdbM"
      },
      "source": [
        "#Print first 10 records\n",
        "y.head(10)"
      ],
      "execution_count": null,
      "outputs": []
    },
    {
      "cell_type": "code",
      "metadata": {
        "id": "n-4ql8sqRiZA"
      },
      "source": [
        "# Checking Null Values\n",
        "x.isnull().sum()"
      ],
      "execution_count": null,
      "outputs": []
    },
    {
      "cell_type": "code",
      "metadata": {
        "id": "E40GYkeTYFUf"
      },
      "source": [
        "# Checking Null Values\n",
        "y.isnull().sum()"
      ],
      "execution_count": null,
      "outputs": []
    },
    {
      "cell_type": "code",
      "metadata": {
        "id": "Zuk7_A13Rs4b"
      },
      "source": [
        "# choosing & Intializing the algorithm\n",
        "reg = linear_model.LinearRegression()"
      ],
      "execution_count": null,
      "outputs": []
    },
    {
      "cell_type": "code",
      "metadata": {
        "id": "AGiuHJrNRycf"
      },
      "source": [
        "# Splitting the dataset 80% Train and 20% Test\n",
        "x_train,x_test,y_train,y_test = train_test_split(x,y,test_size=0.20,random_state=5)  "
      ],
      "execution_count": null,
      "outputs": []
    },
    {
      "cell_type": "code",
      "metadata": {
        "colab": {
          "base_uri": "https://localhost:8080/"
        },
        "id": "Yz5ZWVGIIlDp",
        "outputId": "8ff52fb9-445f-41cb-9e16-91eee034c2be"
      },
      "source": [
        "# Display no Rows and col in Train set\n",
        "x_train.shape"
      ],
      "execution_count": null,
      "outputs": [
        {
          "output_type": "execute_result",
          "data": {
            "text/plain": [
              "(404, 13)"
            ]
          },
          "metadata": {
            "tags": []
          },
          "execution_count": 23
        }
      ]
    },
    {
      "cell_type": "code",
      "metadata": {
        "id": "N-YdQOpzIq6_"
      },
      "source": [
        "#Display no Rows and col in Test set\n",
        "x_test.shape"
      ],
      "execution_count": null,
      "outputs": []
    },
    {
      "cell_type": "code",
      "metadata": {
        "colab": {
          "base_uri": "https://localhost:8080/"
        },
        "id": "VIWF0HUAR0Rf",
        "outputId": "50ca531f-4bd4-46a2-d1bd-8ffcdcddb10c"
      },
      "source": [
        "# Training the dataset\n",
        "reg.fit(x_train,y_train)"
      ],
      "execution_count": null,
      "outputs": [
        {
          "output_type": "execute_result",
          "data": {
            "text/plain": [
              "LinearRegression(copy_X=True, fit_intercept=True, n_jobs=None, normalize=False)"
            ]
          },
          "metadata": {
            "tags": []
          },
          "execution_count": 27
        }
      ]
    },
    {
      "cell_type": "code",
      "metadata": {
        "id": "Nn5FNr1kR3xZ"
      },
      "source": [
        "# checking Coeficient Value for LR (Y=mx+c)\n",
        "print(reg.coef_)"
      ],
      "execution_count": null,
      "outputs": []
    },
    {
      "cell_type": "code",
      "metadata": {
        "colab": {
          "base_uri": "https://localhost:8080/"
        },
        "id": "redcD9UNR8Ca",
        "outputId": "64e14ef6-2b40-47a5-bb36-d808bd40a32a"
      },
      "source": [
        "#Prediction\n",
        "y_pred = reg.predict(x_test)\n",
        "print(y_pred)"
      ],
      "execution_count": null,
      "outputs": [
        {
          "output_type": "stream",
          "text": [
            "[[37.56311787]\n",
            " [32.14445143]\n",
            " [27.06573629]\n",
            " [ 5.67080633]\n",
            " [35.09982577]\n",
            " [ 5.85803701]\n",
            " [27.53708506]\n",
            " [31.81019188]\n",
            " [26.35634771]\n",
            " [22.77208748]\n",
            " [31.91183048]\n",
            " [21.50224061]\n",
            " [23.70119983]\n",
            " [33.3622504 ]\n",
            " [28.51633591]\n",
            " [14.39456899]\n",
            " [ 0.19284025]\n",
            " [18.66247155]\n",
            " [13.71004139]\n",
            " [14.13408635]\n",
            " [ 2.03263952]\n",
            " [19.7280831 ]\n",
            " [38.18657429]\n",
            " [24.19760058]\n",
            " [31.30247973]\n",
            " [11.14144544]\n",
            " [25.03636951]\n",
            " [23.27970871]\n",
            " [22.49420127]\n",
            " [20.52972594]\n",
            " [15.16513744]\n",
            " [ 6.92553586]\n",
            " [18.3557733 ]\n",
            " [22.37179804]\n",
            " [28.91287973]\n",
            " [19.02980786]\n",
            " [30.19357214]\n",
            " [ 8.74384915]\n",
            " [40.86691522]\n",
            " [34.53763591]\n",
            " [20.70224878]\n",
            " [ 2.59618963]\n",
            " [29.99590282]\n",
            " [12.15704798]\n",
            " [27.10186397]\n",
            " [30.8052437 ]\n",
            " [-6.24169079]\n",
            " [19.84885777]\n",
            " [20.92973441]\n",
            " [12.43523958]\n",
            " [20.4949947 ]\n",
            " [19.19231742]\n",
            " [23.69073157]\n",
            " [12.67998473]\n",
            " [17.14252424]\n",
            " [25.04649176]\n",
            " [34.77758126]\n",
            " [15.23294903]\n",
            " [28.22306193]\n",
            " [21.08745388]\n",
            " [20.39506129]\n",
            " [25.79476888]\n",
            " [14.72463673]\n",
            " [33.18635032]\n",
            " [23.17771307]\n",
            " [13.11057248]\n",
            " [19.23154617]\n",
            " [24.61162961]\n",
            " [21.50327036]\n",
            " [22.00419172]\n",
            " [20.5900874 ]\n",
            " [27.19709085]\n",
            " [16.86361523]\n",
            " [18.92610238]\n",
            " [20.62344917]\n",
            " [25.73255665]\n",
            " [22.03855586]\n",
            " [14.51899949]\n",
            " [34.3918044 ]\n",
            " [18.5369776 ]\n",
            " [23.38945015]\n",
            " [41.36132839]\n",
            " [23.27134886]\n",
            " [15.62340913]\n",
            " [25.69729854]\n",
            " [17.16406313]\n",
            " [18.5066679 ]\n",
            " [10.04976469]\n",
            " [18.99779955]\n",
            " [17.02528993]\n",
            " [35.707325  ]\n",
            " [17.50855206]\n",
            " [22.16184894]\n",
            " [19.26215663]\n",
            " [24.16777784]\n",
            " [27.80472748]\n",
            " [12.42828948]\n",
            " [21.91295599]\n",
            " [22.39477399]\n",
            " [13.19335364]\n",
            " [23.96991103]\n",
            " [21.19914699]]\n"
          ],
          "name": "stdout"
        }
      ]
    },
    {
      "cell_type": "code",
      "metadata": {
        "colab": {
          "base_uri": "https://localhost:8080/"
        },
        "id": "dxQfa-I9SI0S",
        "outputId": "28e518ab-14ce-429d-f857-c550562aa889"
      },
      "source": [
        "# actual values\n",
        "print(y_test)"
      ],
      "execution_count": null,
      "outputs": [
        {
          "output_type": "stream",
          "text": [
            "        0\n",
            "226  37.6\n",
            "292  27.9\n",
            "90   22.6\n",
            "373  13.8\n",
            "273  35.2\n",
            "..    ...\n",
            "349  26.6\n",
            "212  22.4\n",
            "156  13.1\n",
            "480  23.0\n",
            "248  24.5\n",
            "\n",
            "[102 rows x 1 columns]\n"
          ],
          "name": "stdout"
        }
      ]
    },
    {
      "cell_type": "code",
      "metadata": {
        "colab": {
          "base_uri": "https://localhost:8080/"
        },
        "id": "1bMH1Nt7SMyQ",
        "outputId": "23d51084-9661-4788-c0c9-c886ab3217ae"
      },
      "source": [
        "# Performance Evaluation through MSE\n",
        "print(np.mean((y_pred - y_test)**2))"
      ],
      "execution_count": null,
      "outputs": [
        {
          "output_type": "stream",
          "text": [
            "0    20.869292\n",
            "dtype: float64\n"
          ],
          "name": "stdout"
        }
      ]
    }
  ]
}